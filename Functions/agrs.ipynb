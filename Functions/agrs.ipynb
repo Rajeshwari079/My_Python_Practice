{
 "cells": [
  {
   "cell_type": "code",
   "execution_count": null,
   "metadata": {},
   "outputs": [],
   "source": []
  },
  {
   "cell_type": "markdown",
   "metadata": {},
   "source": [
    "1) POSITIONAL ARGUMENTS"
   ]
  },
  {
   "cell_type": "code",
   "execution_count": 9,
   "metadata": {},
   "outputs": [
    {
     "name": "stdout",
     "output_type": "stream",
     "text": [
      "a :  10\n",
      "b :  20\n",
      "a+b :  30\n"
     ]
    }
   ],
   "source": [
    "# 1) Positional Arguments\n",
    "\n",
    "def add(a,b):\n",
    "    print('a : ',a)\n",
    "    print('b : ',b)\n",
    "    print('a+b : ',a+b)\n",
    "\n",
    "#add(10) # ERROR - missing 1 required positional argument: 'b'\n",
    "#add()  #ERROR  - missing 2 required positional arguments: 'a' and 'b'\n",
    "\n",
    "add(10,20)\n"
   ]
  },
  {
   "cell_type": "code",
   "execution_count": 20,
   "metadata": {},
   "outputs": [
    {
     "name": "stdout",
     "output_type": "stream",
     "text": [
      "a :  10\n",
      "b :  20\n",
      "a+b :  30\n"
     ]
    }
   ],
   "source": [
    "# Restricting to take only positional arguments\n",
    "def add(a,b,/):\n",
    "    print('a : ',a)\n",
    "    print('b : ',b)\n",
    "    print('a+b : ',a+b)\n",
    "\n",
    "add(10,20)\n",
    "#add(a=10,b=20) - ERROR :add() got some positional-only arguments passed as keyword arguments: 'a, b'\n"
   ]
  },
  {
   "cell_type": "markdown",
   "metadata": {},
   "source": [
    "2) KEYWORD ARGUMENTS"
   ]
  },
  {
   "cell_type": "code",
   "execution_count": 16,
   "metadata": {},
   "outputs": [
    {
     "name": "stdout",
     "output_type": "stream",
     "text": [
      "a :  10\n",
      "b :  20\n",
      "a+b :  30\n"
     ]
    }
   ],
   "source": [
    "def add(a,b):\n",
    "    print('a : ',a)\n",
    "    print('b : ',b)\n",
    "    print('a+b : ',a+b)\n",
    "\n",
    "#add(x=10,y=20) - ERROR : add() got an unexpected keyword argument 'x'\n",
    "add(a=10,b=20)"
   ]
  },
  {
   "cell_type": "code",
   "execution_count": 24,
   "metadata": {},
   "outputs": [
    {
     "name": "stdout",
     "output_type": "stream",
     "text": [
      "a :  10\n",
      "b :  20\n",
      "a+b :  30\n"
     ]
    }
   ],
   "source": [
    "# # Restricting to take only keyword arguments\n",
    "\n",
    "def add(*,a,b):\n",
    "    print('a : ',a)\n",
    "    print('b : ',b)\n",
    "    print('a+b : ',a+b)\n",
    "\n",
    "add(a=10,b=20)\n",
    "#add(10,20) - ERROR  : add() takes 0 positional arguments but 2 were given"
   ]
  },
  {
   "cell_type": "markdown",
   "metadata": {},
   "source": [
    "3) DEFAULT ARGUMENTS"
   ]
  },
  {
   "cell_type": "code",
   "execution_count": 14,
   "metadata": {},
   "outputs": [
    {
     "name": "stdout",
     "output_type": "stream",
     "text": [
      "a :  4\n",
      "b :  6\n",
      "a+b :  10\n",
      "\n",
      "a :  4\n",
      "b :  20\n",
      "a+b :  24\n",
      "\n",
      "a :  10\n",
      "b :  20\n",
      "a+b :  30\n",
      "\n"
     ]
    }
   ],
   "source": [
    "# 3) Default arguments\n",
    "\n",
    "def add(a=10,b=20):\n",
    "    print('a : ',a)\n",
    "    print('b : ',b)\n",
    "    print('a+b : ',a+b)\n",
    "    print()\n",
    "\n",
    "add(4,6) #10\n",
    "add(4)  #24\n",
    "add()  #30\n"
   ]
  },
  {
   "cell_type": "code",
   "execution_count": 25,
   "metadata": {},
   "outputs": [
    {
     "name": "stdout",
     "output_type": "stream",
     "text": [
      "a :  5\n",
      "b :  20\n",
      "a+b :  25\n",
      "\n"
     ]
    }
   ],
   "source": [
    "\n",
    "def add(a,b=20):\n",
    "    print('a : ',a)\n",
    "    print('b : ',b)\n",
    "    print('a+b : ',a+b)\n",
    "    print()\n",
    "\n",
    "add(5)"
   ]
  },
  {
   "cell_type": "code",
   "execution_count": 28,
   "metadata": {},
   "outputs": [
    {
     "name": "stdout",
     "output_type": "stream",
     "text": [
      "a :  10\n",
      "b :  20\n",
      "a+b :  30\n",
      "\n"
     ]
    }
   ],
   "source": [
    "def add(a,b=20):\n",
    "    print('a : ',a)\n",
    "    print('b : ',b)\n",
    "    print('a+b : ',a+b)\n",
    "    print()\n",
    "\n",
    "add(10,20)\n"
   ]
  },
  {
   "cell_type": "code",
   "execution_count": 26,
   "metadata": {},
   "outputs": [
    {
     "ename": "SyntaxError",
     "evalue": "non-default argument follows default argument (3688929306.py, line 1)",
     "output_type": "error",
     "traceback": [
      "\u001b[1;36m  Cell \u001b[1;32mIn[26], line 1\u001b[1;36m\u001b[0m\n\u001b[1;33m    def add(a=10,b):\u001b[0m\n\u001b[1;37m                 ^\u001b[0m\n\u001b[1;31mSyntaxError\u001b[0m\u001b[1;31m:\u001b[0m non-default argument follows default argument\n"
     ]
    }
   ],
   "source": [
    "# Errors in default arguments\n",
    "\n",
    "def add(a=10,b):\n",
    "    print('a : ',a)\n",
    "    print('b : ',b)\n",
    "    print('a+b : ',a+b)\n",
    "    print()\n",
    "\n",
    "add(5)\n",
    "\n",
    "# def add(a=10,b):\n",
    "#              ^\n",
    "# SyntaxError: non-default argument follows default argument\n",
    "\n",
    "\n",
    "\n"
   ]
  },
  {
   "cell_type": "markdown",
   "metadata": {},
   "source": [
    "4) Variable Length Arguments - (*args)"
   ]
  },
  {
   "cell_type": "code",
   "execution_count": 37,
   "metadata": {},
   "outputs": [
    {
     "name": "stdout",
     "output_type": "stream",
     "text": [
      "()\n",
      "<class 'tuple'>\n",
      "0\n",
      "\n",
      "(10,)\n",
      "<class 'tuple'>\n",
      "10\n",
      "\n",
      "(10, 20, 30)\n",
      "<class 'tuple'>\n",
      "60\n",
      "\n",
      "(10, 20, 'hai', 30)\n",
      "<class 'tuple'>\n",
      "60\n",
      "\n"
     ]
    }
   ],
   "source": [
    "def add(*args):\n",
    "    print(args)\n",
    "    print(type(args))\n",
    "    sum=0\n",
    "    for i in args:\n",
    "        if isinstance(i,int):\n",
    "            sum+=i\n",
    "    print(sum)\n",
    "    print()\n",
    "\n",
    "add()\n",
    "\n",
    "add(10)\n",
    "\n",
    "add(10,20,30)\n",
    "\n",
    "add(10,20,\"hai\",30)\n"
   ]
  },
  {
   "cell_type": "markdown",
   "metadata": {},
   "source": [
    "5) VARIABLE LENGTH KEWWORD ARGUMENTS - (**kwargs)"
   ]
  },
  {
   "cell_type": "code",
   "execution_count": 41,
   "metadata": {},
   "outputs": [
    {
     "name": "stdout",
     "output_type": "stream",
     "text": [
      "{}\n",
      "<class 'dict'>\n",
      "0\n",
      "\n",
      "{'a': 10}\n",
      "<class 'dict'>\n",
      "10\n",
      "\n",
      "{'a': 10, 'b': 20, 'c': 30}\n",
      "<class 'dict'>\n",
      "60\n",
      "\n",
      "{'a': 'hr', 'b': 10, 'c': 20}\n",
      "<class 'dict'>\n",
      "30\n",
      "\n"
     ]
    }
   ],
   "source": [
    "def add(**kwargs):\n",
    "    print(kwargs)\n",
    "    print(type(kwargs))\n",
    "    sum=0\n",
    "    for k,v in kwargs.items():\n",
    "        if isinstance(v,int):\n",
    "            sum+=v\n",
    "    print(sum)\n",
    "    print()\n",
    "\n",
    "add()\n",
    "\n",
    "add(a=10)\n",
    "\n",
    "add(a=10,b=20,c=30)\n",
    "\n",
    "add(a='hr',b=10,c=20)"
   ]
  },
  {
   "cell_type": "code",
   "execution_count": null,
   "metadata": {},
   "outputs": [],
   "source": []
  }
 ],
 "metadata": {
  "kernelspec": {
   "display_name": "Python 3",
   "language": "python",
   "name": "python3"
  },
  "language_info": {
   "codemirror_mode": {
    "name": "ipython",
    "version": 3
   },
   "file_extension": ".py",
   "mimetype": "text/x-python",
   "name": "python",
   "nbconvert_exporter": "python",
   "pygments_lexer": "ipython3",
   "version": "3.11.0"
  }
 },
 "nbformat": 4,
 "nbformat_minor": 2
}
